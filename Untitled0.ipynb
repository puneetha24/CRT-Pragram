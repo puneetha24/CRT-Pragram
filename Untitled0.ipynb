{
  "nbformat": 4,
  "nbformat_minor": 0,
  "metadata": {
    "colab": {
      "name": "Untitled0.ipynb",
      "provenance": [],
      "include_colab_link": true
    },
    "kernelspec": {
      "name": "python3",
      "display_name": "Python 3"
    }
  },
  "cells": [
    {
      "cell_type": "markdown",
      "metadata": {
        "id": "view-in-github",
        "colab_type": "text"
      },
      "source": [
        "<a href=\"https://colab.research.google.com/github/puneetha24/CRT-Pragram/blob/master/Untitled0.ipynb\" target=\"_parent\"><img src=\"https://colab.research.google.com/assets/colab-badge.svg\" alt=\"Open In Colab\"/></a>"
      ]
    },
    {
      "cell_type": "code",
      "metadata": {
        "id": "px88Zv4VFbw3",
        "colab_type": "code",
        "colab": {}
      },
      "source": [
        "\n"
      ],
      "execution_count": 0,
      "outputs": []
    },
    {
      "cell_type": "markdown",
      "metadata": {
        "id": "_5o_LxY3GU2c",
        "colab_type": "text"
      },
      "source": [
        "### functional programming\n",
        "1.simple\n",
        "\n",
        "2.easy to understand\n",
        "\n",
        "3.better reusability\n",
        "\n",
        "4.length of the program is divided into sub programs"
      ]
    },
    {
      "cell_type": "code",
      "metadata": {
        "id": "4hRaLoMTGujL",
        "colab_type": "code",
        "colab": {}
      },
      "source": [
        ""
      ],
      "execution_count": 0,
      "outputs": []
    },
    {
      "cell_type": "markdown",
      "metadata": {
        "id": "86b9uLM-Gvfj",
        "colab_type": "text"
      },
      "source": [
        "# read the number \n",
        "# print the even digit sumfrom the number\n",
        "\n",
        "#input:1234\n",
        "#output:6(2+4)"
      ]
    },
    {
      "cell_type": "code",
      "metadata": {
        "id": "Gm5EQZ1ZHLbB",
        "colab_type": "code",
        "colab": {
          "base_uri": "https://localhost:8080/",
          "height": 34
        },
        "outputId": "155c6454-1234-4ab3-c67d-33f8290c053d"
      },
      "source": [
        "def evendigitsum(n):\n",
        "  s=0\n",
        "  while n != 0:\n",
        "    r= n % 10\n",
        "    if r % 2 == 0:\n",
        "      s = s+r\n",
        "    n = n//10\n",
        "  return s\n",
        "evendigitsum(1234)\n",
        "          "
      ],
      "execution_count": 7,
      "outputs": [
        {
          "output_type": "execute_result",
          "data": {
            "text/plain": [
              "6"
            ]
          },
          "metadata": {
            "tags": []
          },
          "execution_count": 7
        }
      ]
    },
    {
      "cell_type": "code",
      "metadata": {
        "id": "BaSilfWtIu_T",
        "colab_type": "code",
        "colab": {
          "base_uri": "https://localhost:8080/",
          "height": 51
        },
        "outputId": "8f68f71e-27d9-4008-ccfd-f0f0d9772ede"
      },
      "source": [
        "def square(x):\n",
        "  print(x*x)\n",
        "print(square(4))"
      ],
      "execution_count": 8,
      "outputs": [
        {
          "output_type": "stream",
          "text": [
            "16\n",
            "None\n"
          ],
          "name": "stdout"
        }
      ]
    },
    {
      "cell_type": "code",
      "metadata": {
        "id": "rnfzDTQlJG0i",
        "colab_type": "code",
        "colab": {
          "base_uri": "https://localhost:8080/",
          "height": 34
        },
        "outputId": "2309b89f-7494-4874-a2a1-dc0d3598b987"
      },
      "source": [
        "def square(x):\n",
        "    return x*x\n",
        "square(3)"
      ],
      "execution_count": 9,
      "outputs": [
        {
          "output_type": "execute_result",
          "data": {
            "text/plain": [
              "9"
            ]
          },
          "metadata": {
            "tags": []
          },
          "execution_count": 9
        }
      ]
    },
    {
      "cell_type": "code",
      "metadata": {
        "id": "I_dCTel-Jb6L",
        "colab_type": "code",
        "colab": {
          "base_uri": "https://localhost:8080/",
          "height": 34
        },
        "outputId": "735bb5cf-f806-4b0a-9329-98f7c5d47b2f"
      },
      "source": [
        "def cube(x):\n",
        "  return x*x*x\n",
        "cube(4)"
      ],
      "execution_count": 11,
      "outputs": [
        {
          "output_type": "execute_result",
          "data": {
            "text/plain": [
              "64"
            ]
          },
          "metadata": {
            "tags": []
          },
          "execution_count": 11
        }
      ]
    },
    {
      "cell_type": "code",
      "metadata": {
        "id": "t3Gma_kPJsGC",
        "colab_type": "code",
        "colab": {
          "base_uri": "https://localhost:8080/",
          "height": 68
        },
        "outputId": "39ebe084-5ac2-460a-b41d-ff211d7bca47"
      },
      "source": [
        "def multiply(x,y=0):\n",
        "    print(\"value of x=\",x)\n",
        "    print(\"value of y=\",y)\n",
        "    return(x*y)\n",
        "print(multiply(y=2,x=4))"
      ],
      "execution_count": 12,
      "outputs": [
        {
          "output_type": "stream",
          "text": [
            "value of x= 4\n",
            "value of y= 2\n",
            "8\n"
          ],
          "name": "stdout"
        }
      ]
    },
    {
      "cell_type": "markdown",
      "metadata": {
        "id": "ByVPE17qKrss",
        "colab_type": "text"
      },
      "source": [
        "# swap values"
      ]
    },
    {
      "cell_type": "code",
      "metadata": {
        "id": "aTXYvV3YKwcU",
        "colab_type": "code",
        "colab": {
          "base_uri": "https://localhost:8080/",
          "height": 34
        },
        "outputId": "227a09f1-9a27-4dec-e62b-997c5545c70e"
      },
      "source": [
        "def swap(x=2,y=3):\n",
        "    temp = x\n",
        "    x = y\n",
        "    y = temp\n",
        "    return x,y\n",
        "swap(2,3)"
      ],
      "execution_count": 20,
      "outputs": [
        {
          "output_type": "execute_result",
          "data": {
            "text/plain": [
              "(3, 2)"
            ]
          },
          "metadata": {
            "tags": []
          },
          "execution_count": 20
        }
      ]
    },
    {
      "cell_type": "code",
      "metadata": {
        "id": "YrI-QU9VPdmm",
        "colab_type": "code",
        "colab": {}
      },
      "source": [
        ""
      ],
      "execution_count": 0,
      "outputs": []
    },
    {
      "cell_type": "markdown",
      "metadata": {
        "id": "fhQXfXzbPuMu",
        "colab_type": "text"
      },
      "source": [
        "input : 19535\n",
        "output : 9"
      ]
    },
    {
      "cell_type": "code",
      "metadata": {
        "id": "2hNfn6rRP3h6",
        "colab_type": "code",
        "colab": {
          "base_uri": "https://localhost:8080/",
          "height": 34
        },
        "outputId": "ed1b733a-a057-4aab-8909-4615e1ee47ac"
      },
      "source": [
        "def largedigit(n):\n",
        "  large = 0\n",
        "  while n!=0:\n",
        "    r=n%10\n",
        "    if large < r:\n",
        "      large = r\n",
        "    n=n//10\n",
        "  return large\n",
        "largedigit(19535)"
      ],
      "execution_count": 31,
      "outputs": [
        {
          "output_type": "execute_result",
          "data": {
            "text/plain": [
              "9"
            ]
          },
          "metadata": {
            "tags": []
          },
          "execution_count": 31
        }
      ]
    },
    {
      "cell_type": "markdown",
      "metadata": {
        "id": "01713bNMSste",
        "colab_type": "text"
      },
      "source": [
        "## for loop\n",
        "#### syntax 1:\n",
        "for i in range (start,stop,step):\n",
        "> statement\n",
        "#### syntax 2:\n",
        "for i in iterableobject\n",
        "> statement"
      ]
    },
    {
      "cell_type": "code",
      "metadata": {
        "id": "WNyeaKhdTlfc",
        "colab_type": "code",
        "colab": {}
      },
      "source": [
        "\n"
      ],
      "execution_count": 0,
      "outputs": []
    },
    {
      "cell_type": "markdown",
      "metadata": {
        "id": "FMkiHM5hUNjO",
        "colab_type": "text"
      },
      "source": [
        "# function to print the number btw two limits"
      ]
    },
    {
      "cell_type": "code",
      "metadata": {
        "id": "Xuhi-MfZUcyT",
        "colab_type": "code",
        "colab": {
          "base_uri": "https://localhost:8080/",
          "height": 34
        },
        "outputId": "2d7025bb-d458-4691-9e56-247d50d18fa4"
      },
      "source": [
        "def printseries(lb,ub):\n",
        "    for x in range(lb,ub+1):\n",
        "        print(x,end = ' ')\n",
        "    return\n",
        "printseries(1,10)"
      ],
      "execution_count": 34,
      "outputs": [
        {
          "output_type": "stream",
          "text": [
            "1 2 3 4 5 6 7 8 9 10 "
          ],
          "name": "stdout"
        }
      ]
    },
    {
      "cell_type": "markdown",
      "metadata": {
        "id": "dVKB8twEVsYh",
        "colab_type": "text"
      },
      "source": [
        "##collection types:\n",
        "####1.list\n",
        "####2.set\n",
        "####3.tuple\n",
        "####4.dictionary\n"
      ]
    },
    {
      "cell_type": "code",
      "metadata": {
        "id": "iRbd3xmcWVWu",
        "colab_type": "code",
        "colab": {}
      },
      "source": [
        ""
      ],
      "execution_count": 0,
      "outputs": []
    },
    {
      "cell_type": "markdown",
      "metadata": {
        "id": "bn1cHzl6WWhl",
        "colab_type": "text"
      },
      "source": [
        "##list:\n",
        "\n",
        "####1.one of the data structure in phyton\n",
        "####2.data structure is to store,sort and search options\n",
        "####3.its one common data structure in phyton, the iteams of list sepeated by comma  and enclosed in square brackets[]\n",
        " \n",
        " ##example\n",
        "\n",
        "    - list1=[1,2,3,4,5]\n",
        "    - list2={\"gitam\",1,2]\n"
      ]
    },
    {
      "cell_type": "code",
      "metadata": {
        "id": "P5r3dfYuYIx8",
        "colab_type": "code",
        "colab": {
          "base_uri": "https://localhost:8080/",
          "height": 119
        },
        "outputId": "81aeb00a-e3bd-4313-d4af-ff84c18b7670"
      },
      "source": [
        "li = [1,8,16,9,2]\n",
        "print(li)#will print all list items\n",
        "print(li[0])\n",
        "print(li[1])\n",
        "print(li[-5])\n",
        "print(li[1:])\n",
        "print(li[1:4])"
      ],
      "execution_count": 40,
      "outputs": [
        {
          "output_type": "stream",
          "text": [
            "[1, 8, 16, 9, 2]\n",
            "1\n",
            "8\n",
            "1\n",
            "[8, 16, 9, 2]\n",
            "[8, 16, 9]\n"
          ],
          "name": "stdout"
        }
      ]
    },
    {
      "cell_type": "markdown",
      "metadata": {
        "id": "fozBSNbSbpSO",
        "colab_type": "text"
      },
      "source": [
        "# update list\n"
      ]
    },
    {
      "cell_type": "code",
      "metadata": {
        "id": "uL_CEN8wbv_V",
        "colab_type": "code",
        "colab": {
          "base_uri": "https://localhost:8080/",
          "height": 51
        },
        "outputId": "ca6e3ec0-1bc3-4ae8-b8ed-bc60d9eb334a"
      },
      "source": [
        "li = [\"gitam\",1234,2018,2019,'hyd']\n",
        "print(li)\n",
        "del li[3]\n",
        "print(li)"
      ],
      "execution_count": 43,
      "outputs": [
        {
          "output_type": "stream",
          "text": [
            "['gitam', 1234, 2018, 2019, 'hyd']\n",
            "['gitam', 1234, 2018, 'hyd']\n"
          ],
          "name": "stdout"
        }
      ]
    },
    {
      "cell_type": "markdown",
      "metadata": {
        "id": "ydI1VycydJLU",
        "colab_type": "text"
      },
      "source": [
        "# basic list operations\n",
        "li = [1,2,3,4]\n",
        "#len of the string\n",
        "print(len(li))"
      ]
    },
    {
      "cell_type": "markdown",
      "metadata": {
        "id": "JKc4gxxbUJAu",
        "colab_type": "text"
      },
      "source": [
        "# "
      ]
    },
    {
      "cell_type": "code",
      "metadata": {
        "id": "vXqyS-1bULHM",
        "colab_type": "code",
        "colab": {}
      },
      "source": [
        ""
      ],
      "execution_count": 0,
      "outputs": []
    },
    {
      "cell_type": "markdown",
      "metadata": {
        "id": "oyUTt6D8GHLb",
        "colab_type": "text"
      },
      "source": [
        ""
      ]
    },
    {
      "cell_type": "code",
      "metadata": {
        "id": "JFI6m5I0GJpb",
        "colab_type": "code",
        "colab": {}
      },
      "source": [
        ""
      ],
      "execution_count": 0,
      "outputs": []
    },
    {
      "cell_type": "markdown",
      "metadata": {
        "id": "SP5D02MrGEam",
        "colab_type": "text"
      },
      "source": [
        ""
      ]
    }
  ]
}