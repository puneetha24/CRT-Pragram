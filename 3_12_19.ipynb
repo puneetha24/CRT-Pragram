{
  "nbformat": 4,
  "nbformat_minor": 0,
  "metadata": {
    "colab": {
      "name": "3.12.19",
      "provenance": [],
      "include_colab_link": true
    },
    "kernelspec": {
      "name": "python3",
      "display_name": "Python 3"
    }
  },
  "cells": [
    {
      "cell_type": "markdown",
      "metadata": {
        "id": "view-in-github",
        "colab_type": "text"
      },
      "source": [
        "<a href=\"https://colab.research.google.com/github/puneetha24/CRT-Pragram/blob/master/3_12_19.ipynb\" target=\"_parent\"><img src=\"https://colab.research.google.com/assets/colab-badge.svg\" alt=\"Open In Colab\"/></a>"
      ]
    },
    {
      "cell_type": "code",
      "metadata": {
        "id": "6xgWWqAz-unF",
        "colab_type": "code",
        "colab": {}
      },
      "source": [
        ""
      ],
      "execution_count": 0,
      "outputs": []
    },
    {
      "cell_type": "markdown",
      "metadata": {
        "id": "vtrt_THv-zf9",
        "colab_type": "text"
      },
      "source": [
        "# markdown\n",
        "## markdown\n",
        "### insert a image\n",
        "![text](https://images.pexels.com/photos/414612/pexels-photo-414612.jpeg?auto=compress&cs=tinysrgb&dpr=2&h=650&w=940)\n",
        "### insert a site\n",
        "[site](https://www.google.com/search?q=images&rlz=1C1CHBD_enIN853IN853&sxsrf=ACYBGNRrxfcIs58ENqKXSEeFs2VbHBtt9g:1575346680312&tbm=isch&source=iu&ictx=1&fir=aT1lQMo5nzpYfM%253A%252CpFs_4Fcq5AgpmM%252C_&vet=1&usg=AI4_-kRn00tCo2yLOqdsKFKZLLtDzoFynw&sa=X&ved=2ahUKEwihspzaz5jmAhWHf30KHRYbBpYQ9QEwAXoECAgQMQ#imgrc=_&vet=1)\n",
        "###**bold and single*italic text\n",
        "### for creating ordered list\n",
        "1.abc\n",
        "2.efg\n",
        "  1.a\n",
        "  2.b"
      ]
    },
    {
      "cell_type": "markdown",
      "metadata": {
        "id": "bXOgQFvdCUvq",
        "colab_type": "text"
      },
      "source": [
        "###**bold and single* italic text\n",
        "**gitam**<br>\n",
        "*gitam*\n",
        "### input\n",
        "### variable\n",
        "### number,boolean\n",
        "### string\n"
      ]
    },
    {
      "cell_type": "markdown",
      "metadata": {
        "id": "s8mcYupeD2kr",
        "colab_type": "text"
      },
      "source": [
        "print(\"hello world\")\n"
      ]
    },
    {
      "cell_type": "markdown",
      "metadata": {
        "id": "PsRsvs7EEGu7",
        "colab_type": "text"
      },
      "source": [
        "# variable creation\n",
        "a = 10\n",
        "b = 20\n",
        "a+b"
      ]
    },
    {
      "cell_type": "code",
      "metadata": {
        "id": "zH2AD4lpEwWF",
        "colab_type": "code",
        "outputId": "19dbc491-f38e-4339-debe-7b759737af61",
        "colab": {
          "base_uri": "https://localhost:8080/",
          "height": 34
        }
      },
      "source": [
        "name = \"gitam\"\n",
        "print(\"university\"+ name)"
      ],
      "execution_count": 0,
      "outputs": [
        {
          "output_type": "stream",
          "text": [
            "universitygitam\n"
          ],
          "name": "stdout"
        }
      ]
    },
    {
      "cell_type": "code",
      "metadata": {
        "id": "NBZobSiWFJRb",
        "colab_type": "code",
        "outputId": "f8b85a29-ed6f-49a5-aca4-2f07523287c0",
        "colab": {
          "base_uri": "https://localhost:8080/",
          "height": 68
        }
      },
      "source": [
        "name = input(\"enter a name\")\n",
        "age = int(input(\"enter age\"))\n",
        "print(\"my name is:\",name,\"and my age is:\",age)"
      ],
      "execution_count": 0,
      "outputs": [
        {
          "output_type": "stream",
          "text": [
            "enter a namepuneetha\n",
            "enter age20\n",
            "my name is: puneetha and my age is: 20\n"
          ],
          "name": "stdout"
        }
      ]
    },
    {
      "cell_type": "code",
      "metadata": {
        "id": "7OJ523y-GPsR",
        "colab_type": "code",
        "colab": {}
      },
      "source": [
        ""
      ],
      "execution_count": 0,
      "outputs": []
    },
    {
      "cell_type": "markdown",
      "metadata": {
        "id": "492Yg8iBGo57",
        "colab_type": "text"
      },
      "source": [
        "## take two numbers and do the following arithmetic operations\n"
      ]
    },
    {
      "cell_type": "code",
      "metadata": {
        "id": "RCpWc-epGyq7",
        "colab_type": "code",
        "outputId": "71d68a30-2870-4394-b1db-f4a2c172166b",
        "colab": {
          "base_uri": "https://localhost:8080/",
          "height": 68
        }
      },
      "source": [
        "a = int(input(\"enter first number\"))\n",
        "b = int(input(\"enter second number\"))\n",
        "c = a+b\n",
        "d = a-b\n",
        "e = a*b\n",
        "f = a/b\n",
        "print(\"addition:\",c,\"sub\",d,\"multiplication\",e,\"division\",f)\n"
      ],
      "execution_count": 0,
      "outputs": [
        {
          "output_type": "stream",
          "text": [
            "enter first number2\n",
            "enter second number4\n",
            "addition: 6 sub -2 multiplication 8 division 0.5\n"
          ],
          "name": "stdout"
        }
      ]
    },
    {
      "cell_type": "markdown",
      "metadata": {
        "id": "l3e4wFDNICo0",
        "colab_type": "text"
      },
      "source": [
        "### fundamental datatypes:\n",
        "1.int\n",
        "2.float\n",
        "3.complex\n",
        "4.boolean\n",
        "5.string\n"
      ]
    },
    {
      "cell_type": "code",
      "metadata": {
        "id": "V4ukbeKuIhqy",
        "colab_type": "code",
        "outputId": "45ebb595-135e-4a08-a9ec-d0fbf25e9781",
        "colab": {
          "base_uri": "https://localhost:8080/",
          "height": 34
        }
      },
      "source": [
        "a = 10\n",
        "b = 10.3\n",
        "c = 5+5j\n",
        "print(type(a),type(b),type(c))\n"
      ],
      "execution_count": 0,
      "outputs": [
        {
          "output_type": "stream",
          "text": [
            "<class 'int'> <class 'float'> <class 'complex'>\n"
          ],
          "name": "stdout"
        }
      ]
    },
    {
      "cell_type": "code",
      "metadata": {
        "id": "z4bTph3HJSbG",
        "colab_type": "code",
        "outputId": "8c065eae-85e6-4390-e1cb-6913103c69a8",
        "colab": {
          "base_uri": "https://localhost:8080/",
          "height": 34
        }
      },
      "source": [
        "c = complex(3,4)\n",
        "print(c)"
      ],
      "execution_count": 0,
      "outputs": [
        {
          "output_type": "stream",
          "text": [
            "(3+4j)\n"
          ],
          "name": "stdout"
        }
      ]
    },
    {
      "cell_type": "code",
      "metadata": {
        "id": "c6CjY03dKZxU",
        "colab_type": "code",
        "outputId": "41463d7e-1ea8-47de-b76d-912de6b66165",
        "colab": {
          "base_uri": "https://localhost:8080/",
          "height": 68
        }
      },
      "source": [
        "c1 = 3+5j\n",
        "c2 = 4+2j\n",
        "print(c1+c2)\n",
        "print(c1-c2)\n",
        "print(c1*c2)"
      ],
      "execution_count": 0,
      "outputs": [
        {
          "output_type": "stream",
          "text": [
            "(7+7j)\n",
            "(-1+3j)\n",
            "(2+26j)\n"
          ],
          "name": "stdout"
        }
      ]
    },
    {
      "cell_type": "markdown",
      "metadata": {
        "id": "I1JVxVp7KzYd",
        "colab_type": "text"
      },
      "source": [
        "## boolean\n"
      ]
    },
    {
      "cell_type": "code",
      "metadata": {
        "id": "ARtEIMQSK4SA",
        "colab_type": "code",
        "outputId": "9c26dc6b-df2a-4df9-f8ec-0e0ce258bd59",
        "colab": {
          "base_uri": "https://localhost:8080/",
          "height": 34
        }
      },
      "source": [
        "a = 10\n",
        "b = 20\n",
        "a>b"
      ],
      "execution_count": 0,
      "outputs": [
        {
          "output_type": "execute_result",
          "data": {
            "text/plain": [
              "False"
            ]
          },
          "metadata": {
            "tags": []
          },
          "execution_count": 9
        }
      ]
    },
    {
      "cell_type": "code",
      "metadata": {
        "id": "zDznLS1VLP8c",
        "colab_type": "code",
        "outputId": "de6dd8b3-20c5-4810-b48d-46c24297b756",
        "colab": {
          "base_uri": "https://localhost:8080/",
          "height": 34
        }
      },
      "source": [
        "s1 = \"abc\"\n",
        "s2 = \"def\"\n",
        "print(type(s1),type(s2))\n"
      ],
      "execution_count": 0,
      "outputs": [
        {
          "output_type": "stream",
          "text": [
            "<class 'str'> <class 'str'>\n"
          ],
          "name": "stdout"
        }
      ]
    },
    {
      "cell_type": "code",
      "metadata": {
        "id": "xk4HK2QMLliE",
        "colab_type": "code",
        "outputId": "238e6d25-995d-4d8a-b024-33503403c959",
        "colab": {
          "base_uri": "https://localhost:8080/",
          "height": 85
        }
      },
      "source": [
        "s1 = \"100\"\n",
        "print(type(s1))\n",
        "a = int(s1)\n",
        "print(type(a))\n",
        "f = 1.5\n",
        "a1 = int(f)\n",
        "print(type(a1))\n",
        "print(a1)"
      ],
      "execution_count": 0,
      "outputs": [
        {
          "output_type": "stream",
          "text": [
            "<class 'str'>\n",
            "<class 'int'>\n",
            "<class 'int'>\n",
            "1\n"
          ],
          "name": "stdout"
        }
      ]
    },
    {
      "cell_type": "code",
      "metadata": {
        "id": "blWZ9iYXN0lF",
        "colab_type": "code",
        "outputId": "b09cc7d3-b2b5-42a7-8e5f-7d60b0e542da",
        "colab": {
          "base_uri": "https://localhost:8080/",
          "height": 34
        }
      },
      "source": [
        "a1 = 1234\n",
        "print(len(str(a1)))"
      ],
      "execution_count": 0,
      "outputs": [
        {
          "output_type": "stream",
          "text": [
            "4\n"
          ],
          "name": "stdout"
        }
      ]
    },
    {
      "cell_type": "markdown",
      "metadata": {
        "id": "d3JzbdvROPxt",
        "colab_type": "text"
      },
      "source": [
        "### operaters\n",
        "1.arithmetic operaters --->+,-,*,%,//,**\n",
        "2.logical operaters ---> and,or,not\n",
        "3.relational operators ---><,>,<=,>=,==,!=\n",
        "4.membership operation ---> in,not in\n"
      ]
    },
    {
      "cell_type": "code",
      "metadata": {
        "id": "aMCRGNRtP5On",
        "colab_type": "code",
        "outputId": "64deea96-54ea-44cd-d2f0-a486d510fb1b",
        "colab": {
          "base_uri": "https://localhost:8080/",
          "height": 136
        }
      },
      "source": [
        "n1 = 12\n",
        "n2 = 21\n",
        "print(n1+n2)\n",
        "print(n1-n2)\n",
        "print(n1*n2)\n",
        "print(n1%n2)\n",
        "print(n1/n2)\n",
        "print(n1**n2)\n",
        "print(n1//n2)\n",
        "\n"
      ],
      "execution_count": 0,
      "outputs": [
        {
          "output_type": "stream",
          "text": [
            "33\n",
            "-9\n",
            "252\n",
            "12\n",
            "0.5714285714285714\n",
            "46005119909369701466112\n",
            "0\n"
          ],
          "name": "stdout"
        }
      ]
    },
    {
      "cell_type": "code",
      "metadata": {
        "id": "WPgwKAPOQ6wz",
        "colab_type": "code",
        "colab": {}
      },
      "source": [
        ""
      ],
      "execution_count": 0,
      "outputs": []
    },
    {
      "cell_type": "markdown",
      "metadata": {
        "id": "lvUHksG2RCvl",
        "colab_type": "text"
      },
      "source": [
        "# relational operators"
      ]
    },
    {
      "cell_type": "code",
      "metadata": {
        "id": "3SR5lKqpRXkz",
        "colab_type": "code",
        "outputId": "939f1d75-95fb-47e7-cc9c-457c9d4a881a",
        "colab": {
          "base_uri": "https://localhost:8080/",
          "height": 85
        }
      },
      "source": [
        "print(n1 == n2)\n",
        "print(n1 != n2)\n",
        "print(n1<n2)\n",
        "print(n1>n2)\n"
      ],
      "execution_count": 0,
      "outputs": [
        {
          "output_type": "stream",
          "text": [
            "False\n",
            "True\n",
            "True\n",
            "False\n"
          ],
          "name": "stdout"
        }
      ]
    },
    {
      "cell_type": "markdown",
      "metadata": {
        "id": "xpIghyUAR-E7",
        "colab_type": "text"
      },
      "source": [
        "# logical operators\n"
      ]
    },
    {
      "cell_type": "code",
      "metadata": {
        "id": "BDKf-wxrSEw2",
        "colab_type": "code",
        "outputId": "bfa9ded8-abf2-45a4-8a6e-555a519b1a65",
        "colab": {
          "base_uri": "https://localhost:8080/",
          "height": 68
        }
      },
      "source": [
        "n1 = 20\n",
        "print(n1>=10 and n1<=20)\n",
        "print(n1>=10 or n1<= 20)\n",
        "print(not n1)"
      ],
      "execution_count": 0,
      "outputs": [
        {
          "output_type": "stream",
          "text": [
            "True\n",
            "True\n",
            "False\n"
          ],
          "name": "stdout"
        }
      ]
    },
    {
      "cell_type": "markdown",
      "metadata": {
        "id": "Gs5UUpx9VhVH",
        "colab_type": "text"
      },
      "source": [
        "## problem on relation operators\n",
        "### take 2 integers and do the following operations\n",
        ">,<,==,!=,<=,>=\n",
        "\n"
      ]
    },
    {
      "cell_type": "code",
      "metadata": {
        "id": "OLst55XpWFiO",
        "colab_type": "code",
        "outputId": "3fd63ed7-fbde-4484-e46e-834fe2697eb9",
        "colab": {
          "base_uri": "https://localhost:8080/",
          "height": 119
        }
      },
      "source": [
        "a = 10\n",
        "b = 20\n",
        "print(a<b)\n",
        "print(a>b)\n",
        "print(a!=b)\n",
        "print(a==b)\n",
        "print(a>=b)\n",
        "print(a<=b)\n"
      ],
      "execution_count": 0,
      "outputs": [
        {
          "output_type": "stream",
          "text": [
            "True\n",
            "False\n",
            "True\n",
            "False\n",
            "False\n",
            "True\n"
          ],
          "name": "stdout"
        }
      ]
    },
    {
      "cell_type": "markdown",
      "metadata": {
        "id": "u9OpLNwxW5nI",
        "colab_type": "text"
      },
      "source": [
        "# membership operators\n",
        "## in ---true if value is found in sequence\n",
        "## not in ---true if value is not found in sequence\n"
      ]
    },
    {
      "cell_type": "code",
      "metadata": {
        "id": "TIw7t5uKXUve",
        "colab_type": "code",
        "outputId": "c77df14f-4173-426d-dcdf-082571d2820c",
        "colab": {
          "base_uri": "https://localhost:8080/",
          "height": 68
        }
      },
      "source": [
        "f = [1,2,3,4]\n",
        "print(1 in f)\n",
        "print(5 in f)\n",
        "print(6 not in f)\n"
      ],
      "execution_count": 0,
      "outputs": [
        {
          "output_type": "stream",
          "text": [
            "True\n",
            "False\n",
            "True\n"
          ],
          "name": "stdout"
        }
      ]
    },
    {
      "cell_type": "markdown",
      "metadata": {
        "id": "s2QTuRrPZW39",
        "colab_type": "text"
      },
      "source": [
        "## conditional statement\n",
        "1. if\n",
        "2.else\n",
        "3.elif\n",
        "##syntax:\n",
        "####if condition:\n",
        "> statement<br>\n",
        "#####else:\n",
        "> statements\n",
        "## to check even or odd\n"
      ]
    },
    {
      "cell_type": "code",
      "metadata": {
        "id": "SnD4971HahYo",
        "colab_type": "code",
        "outputId": "65bc5a98-da8a-4426-c860-8dc60a6a5f0a",
        "colab": {
          "base_uri": "https://localhost:8080/",
          "height": 51
        }
      },
      "source": [
        "n = int(input(\"enter a number\"))\n",
        "if n%2 == 0:\n",
        "  print(\"even\")\n",
        "else:\n",
        "    print(\"odd\")"
      ],
      "execution_count": 0,
      "outputs": [
        {
          "output_type": "stream",
          "text": [
            "enter a number2\n",
            "even\n"
          ],
          "name": "stdout"
        }
      ]
    },
    {
      "cell_type": "markdown",
      "metadata": {
        "id": "lFOyNfpTbaKl",
        "colab_type": "text"
      },
      "source": [
        "## to check given number is multiple of 3 and 5\n"
      ]
    },
    {
      "cell_type": "code",
      "metadata": {
        "id": "6KiHx6cObhhR",
        "colab_type": "code",
        "outputId": "ba9e5e68-82e6-4bf2-c36a-d7c0eaa2c105",
        "colab": {
          "base_uri": "https://localhost:8080/",
          "height": 51
        }
      },
      "source": [
        "n = int(input(\"enter a number\"))\n",
        "if n%3 == 0 and n%5 == 0:\n",
        "  print(\"multiple of 3 and 5\")\n",
        "else:\n",
        "  print(\"number is not multiple of 3 and 5\")"
      ],
      "execution_count": 0,
      "outputs": [
        {
          "output_type": "stream",
          "text": [
            "enter a number12\n",
            "number is not multiple of 3 and 5\n"
          ],
          "name": "stdout"
        }
      ]
    },
    {
      "cell_type": "markdown",
      "metadata": {
        "id": "uncHBsQ2dZod",
        "colab_type": "text"
      },
      "source": [
        "## check given number is positive,negative or zero"
      ]
    },
    {
      "cell_type": "code",
      "metadata": {
        "id": "1PBuYDt-divl",
        "colab_type": "code",
        "outputId": "935f313d-31f8-4d82-bf7d-c25f50da34c9",
        "colab": {
          "base_uri": "https://localhost:8080/",
          "height": 51
        }
      },
      "source": [
        "n == int(input(\"enter a number\"))\n",
        "if n>0:\n",
        "  print(\"positive\")\n",
        "elif n<0:\n",
        "  print(\"negative\")\n",
        "else:\n",
        "  print(\"zero\")"
      ],
      "execution_count": 0,
      "outputs": [
        {
          "output_type": "stream",
          "text": [
            "enter a number2\n",
            "positive\n"
          ],
          "name": "stdout"
        }
      ]
    },
    {
      "cell_type": "markdown",
      "metadata": {
        "id": "H1cyyOf0fio1",
        "colab_type": "text"
      },
      "source": [
        "## check the input is leap or not"
      ]
    },
    {
      "cell_type": "code",
      "metadata": {
        "id": "Mzeyz-FGfnvG",
        "colab_type": "code",
        "outputId": "76e5ff64-5936-4adc-d27f-9b3027d5309c",
        "colab": {
          "base_uri": "https://localhost:8080/",
          "height": 51
        }
      },
      "source": [
        "year = int(input(\"enter a year\"))\n",
        "if year % 400 == 0 or (year % 100 !=0 and year % 4 == 0):\n",
        "  print(\"leap year\")\n",
        "else:\n",
        "  print(\"not a leap year\")"
      ],
      "execution_count": 0,
      "outputs": [
        {
          "output_type": "stream",
          "text": [
            "enter a year2100\n",
            "not a leap year\n"
          ],
          "name": "stdout"
        }
      ]
    },
    {
      "cell_type": "markdown",
      "metadata": {
        "id": "nb6bM6zRil76",
        "colab_type": "text"
      },
      "source": [
        "## loops\n",
        "###1. while\n",
        "###2. do while\n",
        "# print no from 1 to n"
      ]
    },
    {
      "cell_type": "code",
      "metadata": {
        "id": "fJ5QOHL5jE0f",
        "colab_type": "code",
        "outputId": "f716d6b0-a4b8-4b28-c6c7-ca6458fe5b82",
        "colab": {
          "base_uri": "https://localhost:8080/",
          "height": 51
        }
      },
      "source": [
        "n = int(input(\"enter a number\"))\n",
        "i =1\n",
        "while i <= n:\n",
        "     print(i,end=\" \")\n",
        "     i =i+1"
      ],
      "execution_count": 0,
      "outputs": [
        {
          "output_type": "stream",
          "text": [
            "enter a number10\n",
            "1 2 3 4 5 6 7 8 9 10 "
          ],
          "name": "stdout"
        }
      ]
    },
    {
      "cell_type": "markdown",
      "metadata": {
        "id": "KN9CMaZNkR-O",
        "colab_type": "text"
      },
      "source": [
        "## output should be sum of even numbers from 1 to n"
      ]
    },
    {
      "cell_type": "code",
      "metadata": {
        "id": "A0iciN_dkc1t",
        "colab_type": "code",
        "colab": {}
      },
      "source": [
        "n = int(input(\"enter the number\"))\n",
        "i = 1\n",
        "s = 0\n",
        "while i <= n:\n",
        "  if i % 2 == 0:\n",
        "    s = s+i\n",
        "i = i + 1\n",
        "print(s)"
      ],
      "execution_count": 0,
      "outputs": []
    }
  ]
}