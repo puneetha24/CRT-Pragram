{
  "nbformat": 4,
  "nbformat_minor": 0,
  "metadata": {
    "colab": {
      "name": "5 dec 2019",
      "provenance": [],
      "include_colab_link": true
    },
    "kernelspec": {
      "name": "python3",
      "display_name": "Python 3"
    }
  },
  "cells": [
    {
      "cell_type": "markdown",
      "metadata": {
        "id": "view-in-github",
        "colab_type": "text"
      },
      "source": [
        "<a href=\"https://colab.research.google.com/github/puneetha24/CRT-Pragram/blob/master/5_dec_2019.ipynb\" target=\"_parent\"><img src=\"https://colab.research.google.com/assets/colab-badge.svg\" alt=\"Open In Colab\"/></a>"
      ]
    },
    {
      "cell_type": "code",
      "metadata": {
        "id": "rZUb0bn2KEC7",
        "colab_type": "code",
        "colab": {}
      },
      "source": [
        ""
      ],
      "execution_count": 0,
      "outputs": []
    },
    {
      "cell_type": "markdown",
      "metadata": {
        "id": "SKAo0Nw3KIYz",
        "colab_type": "text"
      },
      "source": [
        "## basic list functions"
      ]
    },
    {
      "cell_type": "code",
      "metadata": {
        "id": "edxuUMX6KY1o",
        "colab_type": "code",
        "outputId": "fe9e9859-7d88-4ce0-ec97-e67081fd81ee",
        "colab": {
          "base_uri": "https://localhost:8080/"
        }
      },
      "source": [
        "li = [1,9,16,25,5]\n",
        "print(max(li))\n",
        "print(min(li))\n",
        "print(sum(li))\n",
        "print(sum(li)//len(li))"
      ],
      "execution_count": 0,
      "outputs": [
        {
          "output_type": "stream",
          "text": [
            "25\n",
            "1\n",
            "56\n",
            "11\n"
          ],
          "name": "stdout"
        }
      ]
    },
    {
      "cell_type": "code",
      "metadata": {
        "id": "Bl8H4VWTLU2z",
        "colab_type": "code",
        "colab": {}
      },
      "source": [
        ""
      ],
      "execution_count": 0,
      "outputs": []
    },
    {
      "cell_type": "code",
      "metadata": {
        "id": "xqPgm2RbLsdv",
        "colab_type": "code",
        "colab": {}
      },
      "source": [
        ""
      ],
      "execution_count": 0,
      "outputs": []
    },
    {
      "cell_type": "markdown",
      "metadata": {
        "id": "-RGpWpy1LunA",
        "colab_type": "text"
      },
      "source": [
        "## basic list fumctions"
      ]
    },
    {
      "cell_type": "code",
      "metadata": {
        "id": "-9jxcIM_Lyhb",
        "colab_type": "code",
        "outputId": "4f4151ba-2280-4f2d-f561-9e05fc9e2fcf",
        "colab": {
          "base_uri": "https://localhost:8080/",
          "height": 85
        }
      },
      "source": [
        "li = [9,16,1,25,5]\n",
        "print(max(li))\n",
        "print(min(li))\n",
        "print(sum(li))\n",
        "print(sum(li)//len(li))"
      ],
      "execution_count": 0,
      "outputs": [
        {
          "output_type": "stream",
          "text": [
            "25\n",
            "1\n",
            "56\n",
            "11\n"
          ],
          "name": "stdout"
        }
      ]
    },
    {
      "cell_type": "markdown",
      "metadata": {
        "id": "fgCVRz_oMWBC",
        "colab_type": "text"
      },
      "source": [
        ""
      ]
    },
    {
      "cell_type": "code",
      "metadata": {
        "id": "LeyXez8mMZiX",
        "colab_type": "code",
        "outputId": "4d90c4be-5d3c-46b2-f310-e84d9cb90f5a",
        "colab": {
          "base_uri": "https://localhost:8080/",
          "height": 34
        }
      },
      "source": [
        "li = [1,9,16,25,5,9]\n",
        "li.append(29)# add new item\n",
        "li.insert(2,56)#add new item to resp. index\n",
        "li\n",
        "li.count(9)\n"
      ],
      "execution_count": 0,
      "outputs": [
        {
          "output_type": "execute_result",
          "data": {
            "text/plain": [
              "2"
            ]
          },
          "metadata": {
            "tags": []
          },
          "execution_count": 11
        }
      ]
    },
    {
      "cell_type": "code",
      "metadata": {
        "id": "1fykHtcUOHol",
        "colab_type": "code",
        "outputId": "48b15c1c-5bca-4622-e6a8-c2ec6c33d39e",
        "colab": {
          "base_uri": "https://localhost:8080/",
          "height": 34
        }
      },
      "source": [
        "li = [1,2,3,4,]\n",
        "li.index(3)"
      ],
      "execution_count": 0,
      "outputs": [
        {
          "output_type": "execute_result",
          "data": {
            "text/plain": [
              "2"
            ]
          },
          "metadata": {
            "tags": []
          },
          "execution_count": 12
        }
      ]
    },
    {
      "cell_type": "code",
      "metadata": {
        "id": "tf8ufhyuOUrD",
        "colab_type": "code",
        "outputId": "fbfb3af1-6e4b-4cef-a767-351f58a3a574",
        "colab": {
          "base_uri": "https://localhost:8080/",
          "height": 34
        }
      },
      "source": [
        "li = [1,7,5,4]\n",
        "li.sort()#ascending order\n",
        "li"
      ],
      "execution_count": 0,
      "outputs": [
        {
          "output_type": "execute_result",
          "data": {
            "text/plain": [
              "[1, 4, 5, 7]"
            ]
          },
          "metadata": {
            "tags": []
          },
          "execution_count": 13
        }
      ]
    },
    {
      "cell_type": "code",
      "metadata": {
        "id": "8oFRHjBZOvx4",
        "colab_type": "code",
        "outputId": "ab2c5b2b-201e-44ba-ed6a-d9c8ce761897",
        "colab": {
          "base_uri": "https://localhost:8080/",
          "height": 34
        }
      },
      "source": [
        "li = [1,5,4,8,4]\n",
        "li.pop()# delete last index value\n",
        "li"
      ],
      "execution_count": 0,
      "outputs": [
        {
          "output_type": "execute_result",
          "data": {
            "text/plain": [
              "[1, 5, 4, 8]"
            ]
          },
          "metadata": {
            "tags": []
          },
          "execution_count": 14
        }
      ]
    },
    {
      "cell_type": "code",
      "metadata": {
        "id": "F1cCnRZsPdYS",
        "colab_type": "code",
        "outputId": "e3975178-8b07-43b5-b83a-05e40b72a09c",
        "colab": {
          "base_uri": "https://localhost:8080/",
          "height": 34
        }
      },
      "source": [
        "li = [1,2,3,4,5]\n",
        "li.pop(2)# remove item from resp index\n",
        "li"
      ],
      "execution_count": 0,
      "outputs": [
        {
          "output_type": "execute_result",
          "data": {
            "text/plain": [
              "[1, 2, 4, 5]"
            ]
          },
          "metadata": {
            "tags": []
          },
          "execution_count": 16
        }
      ]
    },
    {
      "cell_type": "code",
      "metadata": {
        "id": "rf7RUP76Riyh",
        "colab_type": "code",
        "colab": {
          "base_uri": "https://localhost:8080/",
          "height": 34
        },
        "outputId": "72977bcc-1c59-4700-cba1-3335d3f6bdf9"
      },
      "source": [
        "li1 = [1,4,6,7,5]\n",
        "li1.reverse()\n",
        "li1"
      ],
      "execution_count": 19,
      "outputs": [
        {
          "output_type": "execute_result",
          "data": {
            "text/plain": [
              "[5, 7, 6, 4, 1]"
            ]
          },
          "metadata": {
            "tags": []
          },
          "execution_count": 19
        }
      ]
    },
    {
      "cell_type": "code",
      "metadata": {
        "id": "-VhxIpa_TRad",
        "colab_type": "code",
        "colab": {
          "base_uri": "https://localhost:8080/",
          "height": 51
        },
        "outputId": "d257a850-e9eb-42f3-c810-4b1e0e7eb981"
      },
      "source": [
        "def largenumber(li):\n",
        "   li.sort()\n",
        "   return li[-1]\n",
        "def genericLarge(li,n):\n",
        "    li.sort()\n",
        "    return li[-n]\n",
        "li = [19,1,25,6,9,45,22]\n",
        "print(largenumber(li))\n",
        "print(genericLarge(li,3))"
      ],
      "execution_count": 22,
      "outputs": [
        {
          "output_type": "stream",
          "text": [
            "45\n",
            "22\n"
          ],
          "name": "stdout"
        }
      ]
    },
    {
      "cell_type": "code",
      "metadata": {
        "id": "3TnoNMwQUhP8",
        "colab_type": "code",
        "colab": {
          "base_uri": "https://localhost:8080/",
          "height": 34
        },
        "outputId": "e9cce9bd-5dea-41ad-8320-b50a63537c46"
      },
      "source": [
        "li = [1,12,3,5]\n",
        "li.extend(li)\n",
        "li"
      ],
      "execution_count": 23,
      "outputs": [
        {
          "output_type": "execute_result",
          "data": {
            "text/plain": [
              "[1, 12, 3, 5, 1, 12, 3, 5]"
            ]
          },
          "metadata": {
            "tags": []
          },
          "execution_count": 23
        }
      ]
    },
    {
      "cell_type": "code",
      "metadata": {
        "id": "xOEtTLQ1U1kr",
        "colab_type": "code",
        "colab": {
          "base_uri": "https://localhost:8080/",
          "height": 51
        },
        "outputId": "817c1647-5171-4eae-9ad2-22f6e5408c33"
      },
      "source": [
        "def leastnumber(li):\n",
        "    li.sort()\n",
        "    return li[0]\n",
        "def genericleastnumber(li,n):\n",
        "    li.sort()\n",
        "    return li[n-1]\n",
        "li = [19,1,25,6,9,45,22]\n",
        "print(leastnumber(li))\n",
        "print(genericleastnumber(li,3))"
      ],
      "execution_count": 29,
      "outputs": [
        {
          "output_type": "stream",
          "text": [
            "1\n",
            "9\n"
          ],
          "name": "stdout"
        }
      ]
    },
    {
      "cell_type": "markdown",
      "metadata": {
        "id": "xj0uOjP_ZK0P",
        "colab_type": "text"
      },
      "source": [
        "# Tuple\n",
        "##- parenthesis() --->tuple and square bracket{} ---> list\n",
        "##- difference between list and tuple\n",
        "    - list are mutable - can be changed/modified\n",
        "    - used to acess and modify,add,delete data\n",
        "    - tuple are bimmutable - cannot be modified\n",
        "    - used to acess data only"
      ]
    },
    {
      "cell_type": "code",
      "metadata": {
        "id": "G7_8VkcqaUHA",
        "colab_type": "code",
        "colab": {
          "base_uri": "https://localhost:8080/",
          "height": 34
        },
        "outputId": "0713bb26-489c-483d-ccdf-c8475a3328be"
      },
      "source": [
        "t1 = (1,2,3,4,5,6)\n",
        "t1\n",
        "print(type(t1),t1[1:5])"
      ],
      "execution_count": 31,
      "outputs": [
        {
          "output_type": "stream",
          "text": [
            "<class 'tuple'> (2, 3, 4, 5)\n"
          ],
          "name": "stdout"
        }
      ]
    },
    {
      "cell_type": "markdown",
      "metadata": {
        "id": "TKNWY07ZcqN_",
        "colab_type": "text"
      },
      "source": [
        ""
      ]
    },
    {
      "cell_type": "markdown",
      "metadata": {
        "id": "8P8KFasucqtU",
        "colab_type": "text"
      },
      "source": [
        "#Dictionaries\n",
        "##1.it works on the concept of set unique data\n",
        "##2.keys,values is the unique identifier for the value\n",
        "##3.each key is seperated from its value with colon(:)\n",
        "##4.each key and value is seperated with comma(,)\n",
        "##5.dictionaries enhanced with curly braces{}"
      ]
    },
    {
      "cell_type": "code",
      "metadata": {
        "id": "BvYppb-yd1qO",
        "colab_type": "code",
        "colab": {
          "base_uri": "https://localhost:8080/",
          "height": 34
        },
        "outputId": "a65bac65-664c-477b-9269-c576fb1294fc"
      },
      "source": [
        "d1 = {\"name\":\"gitam\",\"email id\":\"gitam@gmail.com\",\"address\":\"hyderabad\"}\n",
        "d1[\"email id\"] = \"gitampython@gmail.com\"\n",
        "d1"
      ],
      "execution_count": 34,
      "outputs": [
        {
          "output_type": "execute_result",
          "data": {
            "text/plain": [
              "{'address': 'hyderabad', 'email id': 'gitampython@gmail.com', 'name': 'gitam'}"
            ]
          },
          "metadata": {
            "tags": []
          },
          "execution_count": 34
        }
      ]
    },
    {
      "cell_type": "code",
      "metadata": {
        "id": "liYbXcEKfcbw",
        "colab_type": "code",
        "colab": {
          "base_uri": "https://localhost:8080/",
          "height": 34
        },
        "outputId": "b12c95ba-7a4e-4fa0-c3cd-639b6a2938db"
      },
      "source": [
        "d1[\"email id\"]"
      ],
      "execution_count": 35,
      "outputs": [
        {
          "output_type": "execute_result",
          "data": {
            "text/plain": [
              "'gitampython@gmail.com'"
            ]
          },
          "metadata": {
            "tags": []
          },
          "execution_count": 35
        }
      ]
    },
    {
      "cell_type": "code",
      "metadata": {
        "id": "IEW-Qs91fo40",
        "colab_type": "code",
        "colab": {
          "base_uri": "https://localhost:8080/",
          "height": 85
        },
        "outputId": "96816455-54ea-4368-da9c-df71bad3d049"
      },
      "source": [
        "d1[\"course\"] = \"python\"\n",
        "d1"
      ],
      "execution_count": 37,
      "outputs": [
        {
          "output_type": "execute_result",
          "data": {
            "text/plain": [
              "{'address': 'hyderabad',\n",
              " 'course': 'python',\n",
              " 'email id': 'gitampython@gmail.com',\n",
              " 'name': 'gitam'}"
            ]
          },
          "metadata": {
            "tags": []
          },
          "execution_count": 37
        }
      ]
    },
    {
      "cell_type": "code",
      "metadata": {
        "id": "aroG32MFgoDr",
        "colab_type": "code",
        "colab": {
          "base_uri": "https://localhost:8080/",
          "height": 34
        },
        "outputId": "7d787283-3eea-43fe-f568-50c80bdb0da3"
      },
      "source": [
        "del d1[\"email id\"]\n",
        "d1"
      ],
      "execution_count": 38,
      "outputs": [
        {
          "output_type": "execute_result",
          "data": {
            "text/plain": [
              "{'address': 'hyderabad', 'course': 'python', 'name': 'gitam'}"
            ]
          },
          "metadata": {
            "tags": []
          },
          "execution_count": 38
        }
      ]
    },
    {
      "cell_type": "code",
      "metadata": {
        "id": "7O-Y_C04gv3J",
        "colab_type": "code",
        "colab": {
          "base_uri": "https://localhost:8080/",
          "height": 34
        },
        "outputId": "aa86ff68-0318-4de3-e3cf-2c1159606f7e"
      },
      "source": [
        "d1.keys()"
      ],
      "execution_count": 40,
      "outputs": [
        {
          "output_type": "execute_result",
          "data": {
            "text/plain": [
              "dict_keys(['name', 'address', 'course'])"
            ]
          },
          "metadata": {
            "tags": []
          },
          "execution_count": 40
        }
      ]
    },
    {
      "cell_type": "code",
      "metadata": {
        "id": "l0G2qxYIg2Rd",
        "colab_type": "code",
        "colab": {
          "base_uri": "https://localhost:8080/",
          "height": 34
        },
        "outputId": "3605d3f3-1b81-4c98-cca7-884f215799e1"
      },
      "source": [
        "d1.values()"
      ],
      "execution_count": 41,
      "outputs": [
        {
          "output_type": "execute_result",
          "data": {
            "text/plain": [
              "dict_values(['gitam', 'hyderabad', 'python'])"
            ]
          },
          "metadata": {
            "tags": []
          },
          "execution_count": 41
        }
      ]
    },
    {
      "cell_type": "code",
      "metadata": {
        "id": "AGdXaYvChKMe",
        "colab_type": "code",
        "colab": {
          "base_uri": "https://localhost:8080/",
          "height": 34
        },
        "outputId": "3f3636ad-a150-4911-a147-f310670df269"
      },
      "source": [
        "d1.items()"
      ],
      "execution_count": 42,
      "outputs": [
        {
          "output_type": "execute_result",
          "data": {
            "text/plain": [
              "dict_items([('name', 'gitam'), ('address', 'hyderabad'), ('course', 'python')])"
            ]
          },
          "metadata": {
            "tags": []
          },
          "execution_count": 42
        }
      ]
    },
    {
      "cell_type": "markdown",
      "metadata": {
        "id": "elK28pNciE50",
        "colab_type": "text"
      },
      "source": [
        "#Strings:\n",
        "###- strings\n",
        "###- string slicing\n",
        "###- fundamental programming with strings in python"
      ]
    },
    {
      "cell_type": "code",
      "metadata": {
        "id": "thpl2GdUinHD",
        "colab_type": "code",
        "colab": {
          "base_uri": "https://localhost:8080/",
          "height": 51
        },
        "outputId": "4699bcb4-a064-4d59-c267-0c1597e6d21a"
      },
      "source": [
        "s1 = 'python'\n",
        "print(s1)\n",
        "print(type(s1))"
      ],
      "execution_count": 43,
      "outputs": [
        {
          "output_type": "stream",
          "text": [
            "python\n",
            "<class 'str'>\n"
          ],
          "name": "stdout"
        }
      ]
    },
    {
      "cell_type": "code",
      "metadata": {
        "id": "6ASy9bkXi1cw",
        "colab_type": "code",
        "colab": {
          "base_uri": "https://localhost:8080/",
          "height": 85
        },
        "outputId": "19937820-7840-46a1-cdd5-7248edda3705"
      },
      "source": [
        "s1 = 'python'\n",
        "print(s1[0])\n",
        "print(s1[1])\n",
        "print(s1[5])\n",
        "print(s1[len(s1)-1])"
      ],
      "execution_count": 44,
      "outputs": [
        {
          "output_type": "stream",
          "text": [
            "p\n",
            "y\n",
            "n\n",
            "n\n"
          ],
          "name": "stdout"
        }
      ]
    },
    {
      "cell_type": "code",
      "metadata": {
        "id": "LpaLrW8GkMcC",
        "colab_type": "code",
        "colab": {
          "base_uri": "https://localhost:8080/",
          "height": 119
        },
        "outputId": "eba59bc8-da48-4a99-e83b-9478c21765cd"
      },
      "source": [
        "print(s1[-1])\n",
        "print(s1[-2])\n",
        "print(s1[0:2])\n",
        "print(s1[:2])\n",
        "print(s1[-3:])\n",
        "print(s1[2:])"
      ],
      "execution_count": 45,
      "outputs": [
        {
          "output_type": "stream",
          "text": [
            "n\n",
            "o\n",
            "py\n",
            "py\n",
            "hon\n",
            "thon\n"
          ],
          "name": "stdout"
        }
      ]
    },
    {
      "cell_type": "code",
      "metadata": {
        "id": "k-4LCJBHkphU",
        "colab_type": "code",
        "colab": {
          "base_uri": "https://localhost:8080/",
          "height": 136
        },
        "outputId": "d6a87aeb-e7e5-4b78-a5eb-69dc12915191"
      },
      "source": [
        "print(s1[1:-1])\n",
        "print(s1[len(s1)//2])\n",
        "print(s1[-1::-1])\n",
        "print(s1[-1:-3:-1])\n",
        "print(s1[::2])\n",
        "print(s1[::3])\n",
        "print(s1[::-2])"
      ],
      "execution_count": 46,
      "outputs": [
        {
          "output_type": "stream",
          "text": [
            "ytho\n",
            "h\n",
            "nohtyp\n",
            "no\n",
            "pto\n",
            "ph\n",
            "nhy\n"
          ],
          "name": "stdout"
        }
      ]
    },
    {
      "cell_type": "code",
      "metadata": {
        "id": "COvsrSNKnqd9",
        "colab_type": "code",
        "colab": {}
      },
      "source": [
        ""
      ],
      "execution_count": 0,
      "outputs": []
    },
    {
      "cell_type": "markdown",
      "metadata": {
        "id": "iv6NHVRqoFfj",
        "colab_type": "text"
      },
      "source": [
        "# reversing a string"
      ]
    },
    {
      "cell_type": "code",
      "metadata": {
        "id": "pZiKxz4FoLUp",
        "colab_type": "code",
        "colab": {
          "base_uri": "https://localhost:8080/",
          "height": 34
        },
        "outputId": "23430459-5e87-4502-b7e5-bec0ab2a30cb"
      },
      "source": [
        "def reversestring(str):\n",
        "    return str[-1::-1]\n",
        "reversestring(\"programming\")"
      ],
      "execution_count": 48,
      "outputs": [
        {
          "output_type": "execute_result",
          "data": {
            "text/plain": [
              "'gnimmargorp'"
            ]
          },
          "metadata": {
            "tags": []
          },
          "execution_count": 48
        }
      ]
    },
    {
      "cell_type": "markdown",
      "metadata": {
        "id": "lD1Z4Fbaioem",
        "colab_type": "text"
      },
      "source": [
        ""
      ]
    },
    {
      "cell_type": "markdown",
      "metadata": {
        "id": "kFD7NIw_oqfj",
        "colab_type": "text"
      },
      "source": [
        "#check the given string is palendrome are not"
      ]
    },
    {
      "cell_type": "code",
      "metadata": {
        "id": "DUw-eNbdoySb",
        "colab_type": "code",
        "colab": {
          "base_uri": "https://localhost:8080/",
          "height": 51
        },
        "outputId": "b4af8a7a-ec70-40f3-ccf1-ec75cc565e85"
      },
      "source": [
        "def ispalendrome(str):\n",
        "    if str == str[::-1]:\n",
        "       return True\n",
        "    else:\n",
        "      return False\n",
        "    return\n",
        "print(ispalendrome(\"python\"))\n",
        "print(ispalendrome(\"ganag\"))"
      ],
      "execution_count": 50,
      "outputs": [
        {
          "output_type": "stream",
          "text": [
            "False\n",
            "True\n"
          ],
          "name": "stdout"
        }
      ]
    },
    {
      "cell_type": "markdown",
      "metadata": {
        "id": "H7jTQL8hppdK",
        "colab_type": "text"
      },
      "source": [
        "#String built in methods:\n",
        "##1.upper() -- will convert the input string into upper case\n",
        "##2.lower() -- will convert the input string into lower case"
      ]
    },
    {
      "cell_type": "code",
      "metadata": {
        "id": "dEBZPfWDqFqk",
        "colab_type": "code",
        "colab": {
          "base_uri": "https://localhost:8080/",
          "height": 51
        },
        "outputId": "c6337bfa-1c52-423c-ba2c-eb7b8953c96e"
      },
      "source": [
        "s1 = 'Python'\n",
        "print(s1.upper())\n",
        "print(s1.lower())"
      ],
      "execution_count": 58,
      "outputs": [
        {
          "output_type": "stream",
          "text": [
            "PYTHON\n",
            "python\n"
          ],
          "name": "stdout"
        }
      ]
    },
    {
      "cell_type": "markdown",
      "metadata": {
        "id": "SsaYMsdVqVE0",
        "colab_type": "text"
      },
      "source": [
        "#String boolean built in methods\n",
        "##3.islower()\n",
        "##4.isupper()\n",
        "##5.istitle()\n",
        "##6.isnumeric()\n",
        "##7.isalpha()\n",
        "##8.isspace()"
      ]
    },
    {
      "cell_type": "code",
      "metadata": {
        "id": "97yNd7Idq81V",
        "colab_type": "code",
        "colab": {
          "base_uri": "https://localhost:8080/",
          "height": 119
        },
        "outputId": "cff28626-4586-43cd-a2c7-e3c103f3d90e"
      },
      "source": [
        "print(s1.islower())\n",
        "print(s1.istitle())\n",
        "print(s1.isupper())\n",
        "print(s1.isnumeric())\n",
        "print(s1.isspace())\n",
        "print(s1.isalpha())"
      ],
      "execution_count": 59,
      "outputs": [
        {
          "output_type": "stream",
          "text": [
            "False\n",
            "True\n",
            "False\n",
            "False\n",
            "False\n",
            "True\n"
          ],
          "name": "stdout"
        }
      ]
    },
    {
      "cell_type": "code",
      "metadata": {
        "id": "wEJXSirgsw79",
        "colab_type": "code",
        "colab": {
          "base_uri": "https://localhost:8080/",
          "height": 51
        },
        "outputId": "579db793-9a4c-43f1-a602-872b9e069d04"
      },
      "source": [
        "s1 = \" \"\n",
        "s2 = \"happy\"\n",
        "print(s1.isspace())\n",
        "print(s2.isspace())"
      ],
      "execution_count": 60,
      "outputs": [
        {
          "output_type": "stream",
          "text": [
            "True\n",
            "False\n"
          ],
          "name": "stdout"
        }
      ]
    },
    {
      "cell_type": "markdown",
      "metadata": {
        "id": "B1O9naUltKaE",
        "colab_type": "text"
      },
      "source": [
        "#String methods\n",
        "##- join() -- method will concatinates the two strings\n",
        "##- split() -- returns the list of strings separated by whitespace\n",
        "##- replace() -- replace the specific word\n",
        "\n"
      ]
    },
    {
      "cell_type": "code",
      "metadata": {
        "id": "mOWy6Es_uN9n",
        "colab_type": "code",
        "colab": {
          "base_uri": "https://localhost:8080/",
          "height": 34
        },
        "outputId": "45054376-0fc7-4fad-a849-505f0a252533"
      },
      "source": [
        "s1 = 'python'\n",
        "print(\" \".join(s1))"
      ],
      "execution_count": 61,
      "outputs": [
        {
          "output_type": "stream",
          "text": [
            "p y t h o n\n"
          ],
          "name": "stdout"
        }
      ]
    },
    {
      "cell_type": "code",
      "metadata": {
        "id": "G-kV77cbuaOr",
        "colab_type": "code",
        "colab": {
          "base_uri": "https://localhost:8080/",
          "height": 34
        },
        "outputId": "40d643dc-c389-4dac-9b4e-7f60af6dcb51"
      },
      "source": [
        "s2 = \"python programming\"\n",
        "print(\",\".join(s2))"
      ],
      "execution_count": 63,
      "outputs": [
        {
          "output_type": "stream",
          "text": [
            "p,y,t,h,o,n, ,p,r,o,g,r,a,m,m,i,n,g\n"
          ],
          "name": "stdout"
        }
      ]
    },
    {
      "cell_type": "code",
      "metadata": {
        "id": "5Zo3e6TBvW1O",
        "colab_type": "code",
        "colab": {
          "base_uri": "https://localhost:8080/",
          "height": 34
        },
        "outputId": "96ec0d79-4291-4db1-dd61-93d81db0415d"
      },
      "source": [
        "s2 = \"python programming\"\n",
        "print(s2.split())"
      ],
      "execution_count": 64,
      "outputs": [
        {
          "output_type": "stream",
          "text": [
            "['python', 'programming']\n"
          ],
          "name": "stdout"
        }
      ]
    },
    {
      "cell_type": "code",
      "metadata": {
        "id": "8N_YO7envobV",
        "colab_type": "code",
        "colab": {
          "base_uri": "https://localhost:8080/",
          "height": 34
        },
        "outputId": "44ff4bb3-f0e1-42a9-825a-82bab8d7b239"
      },
      "source": [
        "s2 = \"python programming is easy to learn\"\n",
        "print(s2.split('a'))"
      ],
      "execution_count": 65,
      "outputs": [
        {
          "output_type": "stream",
          "text": [
            "['python progr', 'mming is e', 'sy to le', 'rn']\n"
          ],
          "name": "stdout"
        }
      ]
    },
    {
      "cell_type": "code",
      "metadata": {
        "id": "jwkZMLjBv-Zt",
        "colab_type": "code",
        "colab": {
          "base_uri": "https://localhost:8080/",
          "height": 54
        },
        "outputId": "f9c49c54-c7ff-4bc5-9f08-2a6a3b52cd18"
      },
      "source": [
        "s2 = \"python programming is easy to learn\"\n",
        "li = list(s2)\n",
        "print(li)"
      ],
      "execution_count": 67,
      "outputs": [
        {
          "output_type": "stream",
          "text": [
            "['p', 'y', 't', 'h', 'o', 'n', ' ', 'p', 'r', 'o', 'g', 'r', 'a', 'm', 'm', 'i', 'n', 'g', ' ', 'i', 's', ' ', 'e', 'a', 's', 'y', ' ', 't', 'o', ' ', 'l', 'e', 'a', 'r', 'n']\n"
          ],
          "name": "stdout"
        }
      ]
    },
    {
      "cell_type": "code",
      "metadata": {
        "id": "eXoZFf62wV6U",
        "colab_type": "code",
        "colab": {
          "base_uri": "https://localhost:8080/",
          "height": 34
        },
        "outputId": "81990138-e450-476a-cdea-0bb1a6539425"
      },
      "source": [
        "s2 = \"python programming is easy to learn\"\n",
        "print(s2.replace(\"gra\",\"application\"))"
      ],
      "execution_count": 68,
      "outputs": [
        {
          "output_type": "stream",
          "text": [
            "python proapplicationmming is easy to learn\n"
          ],
          "name": "stdout"
        }
      ]
    },
    {
      "cell_type": "code",
      "metadata": {
        "id": "8Iy2DDiNstek",
        "colab_type": "code",
        "colab": {}
      },
      "source": [
        ""
      ],
      "execution_count": 0,
      "outputs": []
    }
  ]
}